{
 "cells": [
  {
   "cell_type": "code",
   "execution_count": 2,
   "id": "e3b3fc3c",
   "metadata": {},
   "outputs": [],
   "source": [
    "s=\"hi\""
   ]
  },
  {
   "cell_type": "code",
   "execution_count": 3,
   "id": "c7eb5aa4",
   "metadata": {},
   "outputs": [
    {
     "data": {
      "text/plain": [
       "'hi'"
      ]
     },
     "execution_count": 3,
     "metadata": {},
     "output_type": "execute_result"
    }
   ],
   "source": [
    "s"
   ]
  },
  {
   "cell_type": "code",
   "execution_count": 5,
   "id": "35cc7312",
   "metadata": {},
   "outputs": [
    {
     "data": {
      "text/plain": [
       "'Allow Welcome You All'"
      ]
     },
     "execution_count": 5,
     "metadata": {},
     "output_type": "execute_result"
    }
   ],
   "source": [
    "str=\"Allow Welcome You All\"\n",
    "str"
   ]
  },
  {
   "cell_type": "code",
   "execution_count": 6,
   "id": "d2c90d9f",
   "metadata": {},
   "outputs": [
    {
     "name": "stdout",
     "output_type": "stream",
     "text": [
      "Allow Welcome You All\n"
     ]
    }
   ],
   "source": [
    "print(str)"
   ]
  },
  {
   "cell_type": "code",
   "execution_count": 8,
   "id": "9aaa3683",
   "metadata": {},
   "outputs": [
    {
     "data": {
      "text/plain": [
       "'Allow Welcome You AllAllow Welcome You AllAllow Welcome You AllAllow Welcome You All'"
      ]
     },
     "execution_count": 8,
     "metadata": {},
     "output_type": "execute_result"
    }
   ],
   "source": [
    "str*4\n"
   ]
  },
  {
   "cell_type": "code",
   "execution_count": 9,
   "id": "79d8e5f9",
   "metadata": {},
   "outputs": [
    {
     "data": {
      "text/plain": [
       "21"
      ]
     },
     "execution_count": 9,
     "metadata": {},
     "output_type": "execute_result"
    }
   ],
   "source": [
    "len(str)"
   ]
  },
  {
   "cell_type": "code",
   "execution_count": 11,
   "id": "c69f130f",
   "metadata": {},
   "outputs": [
    {
     "data": {
      "text/plain": [
       "-1"
      ]
     },
     "execution_count": 11,
     "metadata": {},
     "output_type": "execute_result"
    }
   ],
   "source": [
    "str.find('hel')"
   ]
  },
  {
   "cell_type": "code",
   "execution_count": 12,
   "id": "5dc1fdaa",
   "metadata": {},
   "outputs": [
    {
     "data": {
      "text/plain": [
       "-1"
      ]
     },
     "execution_count": 12,
     "metadata": {},
     "output_type": "execute_result"
    }
   ],
   "source": [
    "str.find('hello')"
   ]
  },
  {
   "cell_type": "code",
   "execution_count": 13,
   "id": "d201e465",
   "metadata": {},
   "outputs": [
    {
     "data": {
      "text/plain": [
       "'Allow Welcome You All'"
      ]
     },
     "execution_count": 13,
     "metadata": {},
     "output_type": "execute_result"
    }
   ],
   "source": [
    "str"
   ]
  },
  {
   "cell_type": "code",
   "execution_count": 16,
   "id": "1f7a8ea2",
   "metadata": {},
   "outputs": [
    {
     "data": {
      "text/plain": [
       "-1"
      ]
     },
     "execution_count": 16,
     "metadata": {},
     "output_type": "execute_result"
    }
   ],
   "source": [
    "str.find('cse')"
   ]
  },
  {
   "cell_type": "code",
   "execution_count": 17,
   "id": "a1a8586a",
   "metadata": {},
   "outputs": [
    {
     "data": {
      "text/plain": [
       "'ALLOW WELCOME YOU ALL'"
      ]
     },
     "execution_count": 17,
     "metadata": {},
     "output_type": "execute_result"
    }
   ],
   "source": [
    "str.upper()"
   ]
  },
  {
   "cell_type": "code",
   "execution_count": 19,
   "id": "d64e53ef",
   "metadata": {},
   "outputs": [
    {
     "data": {
      "text/plain": [
       "'A'"
      ]
     },
     "execution_count": 19,
     "metadata": {},
     "output_type": "execute_result"
    }
   ],
   "source": [
    "str[0]"
   ]
  },
  {
   "cell_type": "code",
   "execution_count": 22,
   "id": "5bfd2161",
   "metadata": {},
   "outputs": [
    {
     "data": {
      "text/plain": [
       "'hello Welcome You All'"
      ]
     },
     "execution_count": 22,
     "metadata": {},
     "output_type": "execute_result"
    }
   ],
   "source": [
    "str='hello Welcome You All'\n",
    "str"
   ]
  },
  {
   "cell_type": "raw",
   "id": "fdea82cd",
   "metadata": {},
   "source": []
  },
  {
   "cell_type": "raw",
   "id": "97cbe936",
   "metadata": {},
   "source": [
    "\n"
   ]
  },
  {
   "cell_type": "code",
   "execution_count": 24,
   "id": "ad5ad643",
   "metadata": {},
   "outputs": [
    {
     "data": {
      "text/plain": [
       "'hloWloeYuAl'"
      ]
     },
     "execution_count": 24,
     "metadata": {},
     "output_type": "execute_result"
    }
   ],
   "source": [
    "str[0::2]"
   ]
  },
  {
   "cell_type": "raw",
   "id": "db14cf1b",
   "metadata": {},
   "source": []
  },
  {
   "cell_type": "code",
   "execution_count": 25,
   "id": "3941a65b",
   "metadata": {},
   "outputs": [
    {
     "data": {
      "text/plain": [
       "False"
      ]
     },
     "execution_count": 25,
     "metadata": {},
     "output_type": "execute_result"
    }
   ],
   "source": [
    "str in['hello']"
   ]
  },
  {
   "cell_type": "code",
   "execution_count": 27,
   "id": "a2f569fb",
   "metadata": {},
   "outputs": [
    {
     "data": {
      "text/plain": [
       "True"
      ]
     },
     "execution_count": 27,
     "metadata": {},
     "output_type": "execute_result"
    }
   ],
   "source": [
    "str not in['hello']"
   ]
  },
  {
   "cell_type": "code",
   "execution_count": 29,
   "id": "a0177ff4",
   "metadata": {},
   "outputs": [
    {
     "data": {
      "text/plain": [
       "'llo Welcome You A'"
      ]
     },
     "execution_count": 29,
     "metadata": {},
     "output_type": "execute_result"
    }
   ],
   "source": [
    "str[2:len(str)-4+4-4+2-3*2-15]"
   ]
  },
  {
   "cell_type": "code",
   "execution_count": 37,
   "id": "8efe6fa2",
   "metadata": {},
   "outputs": [
    {
     "name": "stdout",
     "output_type": "stream",
     "text": [
      "5 10 "
     ]
    }
   ],
   "source": [
    "for i in range(1,11):\n",
    "    if i%5==0:\n",
    "        print(i,end=\" \")"
   ]
  },
  {
   "cell_type": "code",
   "execution_count": 38,
   "id": "bc2043ac",
   "metadata": {},
   "outputs": [],
   "source": [
    "list1=[12,15,39.94,'Hello',[12,39,25,[34,'welcome',55],'cse']]"
   ]
  },
  {
   "cell_type": "code",
   "execution_count": 40,
   "id": "ba59dd19",
   "metadata": {},
   "outputs": [
    {
     "data": {
      "text/plain": [
       "15"
      ]
     },
     "execution_count": 40,
     "metadata": {},
     "output_type": "execute_result"
    }
   ],
   "source": [
    "list1[1]"
   ]
  },
  {
   "cell_type": "code",
   "execution_count": 44,
   "id": "f63ac812",
   "metadata": {},
   "outputs": [
    {
     "data": {
      "text/plain": [
       "'come'"
      ]
     },
     "execution_count": 44,
     "metadata": {},
     "output_type": "execute_result"
    }
   ],
   "source": [
    "list1[4][3][1][3:]"
   ]
  },
  {
   "cell_type": "code",
   "execution_count": 47,
   "id": "883d538b",
   "metadata": {},
   "outputs": [
    {
     "data": {
      "text/plain": [
       "'se'"
      ]
     },
     "execution_count": 47,
     "metadata": {},
     "output_type": "execute_result"
    }
   ],
   "source": [
    "list1[4][4][1:]"
   ]
  },
  {
   "cell_type": "code",
   "execution_count": 48,
   "id": "01766940",
   "metadata": {},
   "outputs": [
    {
     "data": {
      "text/plain": [
       "'cse'"
      ]
     },
     "execution_count": 48,
     "metadata": {},
     "output_type": "execute_result"
    }
   ],
   "source": [
    "str1='cse'\n",
    "str1"
   ]
  },
  {
   "cell_type": "code",
   "execution_count": 49,
   "id": "bf32defe",
   "metadata": {},
   "outputs": [
    {
     "data": {
      "text/plain": [
       "'csehello Welcome You All'"
      ]
     },
     "execution_count": 49,
     "metadata": {},
     "output_type": "execute_result"
    }
   ],
   "source": [
    "str1+str"
   ]
  },
  {
   "cell_type": "code",
   "execution_count": 50,
   "id": "808f21f2",
   "metadata": {},
   "outputs": [
    {
     "data": {
      "text/plain": [
       "'hello come You All'"
      ]
     },
     "execution_count": 50,
     "metadata": {},
     "output_type": "execute_result"
    }
   ],
   "source": [
    "str.replace(\"Welcome\",\"come\")"
   ]
  },
  {
   "cell_type": "code",
   "execution_count": 51,
   "id": "51fd1881",
   "metadata": {},
   "outputs": [
    {
     "data": {
      "text/plain": [
       "'hello Welcome You All'"
      ]
     },
     "execution_count": 51,
     "metadata": {},
     "output_type": "execute_result"
    }
   ],
   "source": [
    "str"
   ]
  },
  {
   "cell_type": "code",
   "execution_count": 54,
   "id": "4b2800a1",
   "metadata": {},
   "outputs": [
    {
     "data": {
      "text/plain": [
       "[12, 15, 39.94, 'Hello', [12, 39, 25, [34, 'welcome', 55], 'cse']]"
      ]
     },
     "execution_count": 54,
     "metadata": {},
     "output_type": "execute_result"
    }
   ],
   "source": [
    "list1"
   ]
  },
  {
   "cell_type": "markdown",
   "id": "7854cb22",
   "metadata": {},
   "source": [
    "list1[4][3][1].replace('welcome','come)"
   ]
  },
  {
   "cell_type": "code",
   "execution_count": 57,
   "id": "d0c054c6",
   "metadata": {},
   "outputs": [
    {
     "data": {
      "text/plain": [
       "[12, 15, 39.94, 'Hello', [12, 39, 25, [34, 'come', 55], 'cse']]"
      ]
     },
     "execution_count": 57,
     "metadata": {},
     "output_type": "execute_result"
    }
   ],
   "source": [
    "list1[4][3][1]=\"come\"\n",
    "list1"
   ]
  },
  {
   "cell_type": "code",
   "execution_count": 59,
   "id": "fd776369",
   "metadata": {},
   "outputs": [
    {
     "data": {
      "text/plain": [
       "[12, 15, 39.94, 'Hello', [12, 39, 25, [34, 'come', 55], 'cse']]"
      ]
     },
     "execution_count": 59,
     "metadata": {},
     "output_type": "execute_result"
    }
   ],
   "source": [
    "list1[4][3][1].replace('welcome','come')\n",
    "list1"
   ]
  },
  {
   "cell_type": "code",
   "execution_count": 84,
   "id": "12498944",
   "metadata": {},
   "outputs": [
    {
     "data": {
      "text/plain": [
       "[15, 39.94, 'Hello', [12, 39, 25, [34, 'come', 55], 'cse']]"
      ]
     },
     "execution_count": 84,
     "metadata": {},
     "output_type": "execute_result"
    }
   ],
   "source": [
    "list1"
   ]
  },
  {
   "cell_type": "code",
   "execution_count": 85,
   "id": "63ec2deb",
   "metadata": {},
   "outputs": [
    {
     "data": {
      "text/plain": [
       "15"
      ]
     },
     "execution_count": 85,
     "metadata": {},
     "output_type": "execute_result"
    }
   ],
   "source": [
    "list1[0]"
   ]
  },
  {
   "cell_type": "code",
   "execution_count": 97,
   "id": "2e3d9cbe",
   "metadata": {},
   "outputs": [
    {
     "data": {
      "text/plain": [
       "39.94"
      ]
     },
     "execution_count": 97,
     "metadata": {},
     "output_type": "execute_result"
    }
   ],
   "source": [
    "a=list1[1]\n",
    "a"
   ]
  },
  {
   "cell_type": "code",
   "execution_count": 98,
   "id": "565275d2",
   "metadata": {},
   "outputs": [
    {
     "data": {
      "text/plain": [
       "39.94"
      ]
     },
     "execution_count": 98,
     "metadata": {},
     "output_type": "execute_result"
    }
   ],
   "source": [
    "a"
   ]
  },
  {
   "cell_type": "code",
   "execution_count": 104,
   "id": "3da59e1b",
   "metadata": {},
   "outputs": [
    {
     "data": {
      "text/plain": [
       "{'name': 'charan', 'Address': 'Chennai', 'Mobile Number': 1234567890}"
      ]
     },
     "execution_count": 104,
     "metadata": {},
     "output_type": "execute_result"
    }
   ],
   "source": [
    "dict={'name':'charan','Address':'Chennai','Mobile Number':1234567890}\n",
    "dict"
   ]
  },
  {
   "cell_type": "code",
   "execution_count": 110,
   "id": "2c105243",
   "metadata": {},
   "outputs": [
    {
     "name": "stdout",
     "output_type": "stream",
     "text": [
      "charan\n"
     ]
    },
    {
     "data": {
      "text/plain": [
       "3"
      ]
     },
     "execution_count": 110,
     "metadata": {},
     "output_type": "execute_result"
    }
   ],
   "source": [
    "print(dict['name'])\n",
    "len(dict)"
   ]
  },
  {
   "cell_type": "code",
   "execution_count": 112,
   "id": "a0ff0102",
   "metadata": {},
   "outputs": [
    {
     "data": {
      "text/plain": [
       "{'name': 'charan', 'Address': 'Chennai', 'Mobile Number': 1234567890}"
      ]
     },
     "execution_count": 112,
     "metadata": {},
     "output_type": "execute_result"
    }
   ],
   "source": [
    "dict1=dict.copy()\n",
    "dict1\n"
   ]
  },
  {
   "cell_type": "code",
   "execution_count": 113,
   "id": "9d839c01",
   "metadata": {},
   "outputs": [
    {
     "data": {
      "text/plain": [
       "dict_keys(['name', 'Address', 'Mobile Number'])"
      ]
     },
     "execution_count": 113,
     "metadata": {},
     "output_type": "execute_result"
    }
   ],
   "source": [
    "dict.keys()"
   ]
  },
  {
   "cell_type": "code",
   "execution_count": 114,
   "id": "22a2ed44",
   "metadata": {},
   "outputs": [
    {
     "data": {
      "text/plain": [
       "dict_values(['charan', 'Chennai', 1234567890])"
      ]
     },
     "execution_count": 114,
     "metadata": {},
     "output_type": "execute_result"
    }
   ],
   "source": [
    "dict.values()"
   ]
  },
  {
   "cell_type": "code",
   "execution_count": 115,
   "id": "9dd87822",
   "metadata": {},
   "outputs": [
    {
     "data": {
      "text/plain": [
       "dict_items([('name', 'charan'), ('Address', 'Chennai'), ('Mobile Number', 1234567890)])"
      ]
     },
     "execution_count": 115,
     "metadata": {},
     "output_type": "execute_result"
    }
   ],
   "source": [
    "dict.items()"
   ]
  },
  {
   "cell_type": "code",
   "execution_count": null,
   "id": "1313f484",
   "metadata": {},
   "outputs": [],
   "source": []
  }
 ],
 "metadata": {
  "kernelspec": {
   "display_name": "Python 3 (ipykernel)",
   "language": "python",
   "name": "python3"
  },
  "language_info": {
   "codemirror_mode": {
    "name": "ipython",
    "version": 3
   },
   "file_extension": ".py",
   "mimetype": "text/x-python",
   "name": "python",
   "nbconvert_exporter": "python",
   "pygments_lexer": "ipython3",
   "version": "3.9.13"
  }
 },
 "nbformat": 4,
 "nbformat_minor": 5
}
